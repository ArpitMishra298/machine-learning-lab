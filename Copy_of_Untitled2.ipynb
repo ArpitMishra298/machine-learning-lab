{
  "nbformat": 4,
  "nbformat_minor": 0,
  "metadata": {
    "colab": {
      "provenance": [],
      "toc_visible": true,
      "authorship_tag": "ABX9TyOFZC0I/3UuYhMB1GgNjIN2",
      "include_colab_link": true
    },
    "kernelspec": {
      "name": "python3",
      "display_name": "Python 3"
    },
    "language_info": {
      "name": "python"
    }
  },
  "cells": [
    {
      "cell_type": "markdown",
      "metadata": {
        "id": "view-in-github",
        "colab_type": "text"
      },
      "source": [
        "<a href=\"https://colab.research.google.com/github/ArpitMishra298/machine-learning-lab/blob/main/Copy_of_Untitled2.ipynb\" target=\"_parent\"><img src=\"https://colab.research.google.com/assets/colab-badge.svg\" alt=\"Open In Colab\"/></a>"
      ]
    },
    {
      "cell_type": "markdown",
      "source": [
        "count number of spaces in string\n"
      ],
      "metadata": {
        "id": "Lc_11zIHwXQq"
      }
    },
    {
      "cell_type": "code",
      "source": [
        "\n",
        "def check_space(string):\n",
        "\t\n",
        "\t\n",
        "\tcount = 0\n",
        "\t\n",
        "\n",
        "\tfor i in range(0, len(string)):\n",
        "\t\t\n",
        "\t\t\n",
        "\t\tif string[i] == \" \":\n",
        "\t\t\tcount += 1\n",
        "\t\t\n",
        "\treturn count\n",
        "\n",
        "\n",
        "string = \"my name   is   Arpit\"\n",
        "\n",
        "\n",
        "print(\"number of spaces \",check_space(string))\n",
        "\n"
      ],
      "metadata": {
        "colab": {
          "base_uri": "https://localhost:8080/"
        },
        "id": "ehczlw7Vwdr4",
        "outputId": "7bf52bee-1f22-4803-b1d0-81449c5cb2c8"
      },
      "execution_count": null,
      "outputs": [
        {
          "output_type": "stream",
          "name": "stdout",
          "text": [
            "number of spaces  7\n"
          ]
        }
      ]
    },
    {
      "cell_type": "markdown",
      "source": [
        "print table of 5"
      ],
      "metadata": {
        "id": "ficSkwJPwgzo"
      }
    },
    {
      "cell_type": "code",
      "source": [
        "num = 5\n",
        "\n",
        "\n",
        "for i in range(1, 11):\n",
        "   print(num, 'x', i, '=', num*i)\n"
      ],
      "metadata": {
        "colab": {
          "base_uri": "https://localhost:8080/"
        },
        "id": "_Slp1YWAw0s5",
        "outputId": "3b2a9d8d-21a1-4530-8075-249b79001b0e"
      },
      "execution_count": null,
      "outputs": [
        {
          "output_type": "stream",
          "name": "stdout",
          "text": [
            "5 x 1 = 5\n",
            "5 x 2 = 10\n",
            "5 x 3 = 15\n",
            "5 x 4 = 20\n",
            "5 x 5 = 25\n",
            "5 x 6 = 30\n",
            "5 x 7 = 35\n",
            "5 x 8 = 40\n",
            "5 x 9 = 45\n",
            "5 x 10 = 50\n"
          ]
        }
      ]
    },
    {
      "cell_type": "markdown",
      "source": [
        "count number of 6 between 1 to 1000\n"
      ],
      "metadata": {
        "id": "ud8CO0pNw_7C"
      }
    },
    {
      "cell_type": "code",
      "source": [
        "count = sum(str(i).count('6') for i in range(1, 1001))\n",
        "print(\"The number of sixes between 1 and 1000 is:\", count)"
      ],
      "metadata": {
        "colab": {
          "base_uri": "https://localhost:8080/"
        },
        "id": "RDLtqsNDx1Lo",
        "outputId": "f7bab086-f71d-45fe-b168-1573bccd7606"
      },
      "execution_count": null,
      "outputs": [
        {
          "output_type": "stream",
          "name": "stdout",
          "text": [
            "The number of sixes between 1 and 1000 is: 300\n"
          ]
        }
      ]
    },
    {
      "cell_type": "markdown",
      "source": [
        "find number between 1 to 1000 divisible by 2 and 5\n"
      ],
      "metadata": {
        "id": "3XppBMCfyOYw"
      }
    },
    {
      "cell_type": "code",
      "source": [
        "lower = int(input(\"Enter lower range limit:\"))\n",
        "upper = int(input(\"Enter upper range limit:\"))\n",
        "for i in range(lower, upper+1):\n",
        "   if((i%2==0) & (i%5==0)):\n",
        "      print(i)"
      ],
      "metadata": {
        "colab": {
          "base_uri": "https://localhost:8080/"
        },
        "id": "3128kCSCycSg",
        "outputId": "5d4bf780-0421-424c-f8c5-565c192cfb2a"
      },
      "execution_count": null,
      "outputs": [
        {
          "output_type": "stream",
          "name": "stdout",
          "text": [
            "Enter lower range limit:1\n",
            "Enter upper range limit:1000\n",
            "10\n",
            "20\n",
            "30\n",
            "40\n",
            "50\n",
            "60\n",
            "70\n",
            "80\n",
            "90\n",
            "100\n",
            "110\n",
            "120\n",
            "130\n",
            "140\n",
            "150\n",
            "160\n",
            "170\n",
            "180\n",
            "190\n",
            "200\n",
            "210\n",
            "220\n",
            "230\n",
            "240\n",
            "250\n",
            "260\n",
            "270\n",
            "280\n",
            "290\n",
            "300\n",
            "310\n",
            "320\n",
            "330\n",
            "340\n",
            "350\n",
            "360\n",
            "370\n",
            "380\n",
            "390\n",
            "400\n",
            "410\n",
            "420\n",
            "430\n",
            "440\n",
            "450\n",
            "460\n",
            "470\n",
            "480\n",
            "490\n",
            "500\n",
            "510\n",
            "520\n",
            "530\n",
            "540\n",
            "550\n",
            "560\n",
            "570\n",
            "580\n",
            "590\n",
            "600\n",
            "610\n",
            "620\n",
            "630\n",
            "640\n",
            "650\n",
            "660\n",
            "670\n",
            "680\n",
            "690\n",
            "700\n",
            "710\n",
            "720\n",
            "730\n",
            "740\n",
            "750\n",
            "760\n",
            "770\n",
            "780\n",
            "790\n",
            "800\n",
            "810\n",
            "820\n",
            "830\n",
            "840\n",
            "850\n",
            "860\n",
            "870\n",
            "880\n",
            "890\n",
            "900\n",
            "910\n",
            "920\n",
            "930\n",
            "940\n",
            "950\n",
            "960\n",
            "970\n",
            "980\n",
            "990\n",
            "1000\n"
          ]
        }
      ]
    },
    {
      "cell_type": "markdown",
      "source": [
        "square of natural number 1 to 10"
      ],
      "metadata": {
        "id": "0pOipgaqzAoI"
      }
    },
    {
      "cell_type": "code",
      "source": [
        "squares = [i**2 for i in range(1, 11)]\n",
        "print(squares)\n"
      ],
      "metadata": {
        "colab": {
          "base_uri": "https://localhost:8080/"
        },
        "id": "yueVNGHqzQ5i",
        "outputId": "6236623c-095b-4e54-8ab4-2e489088d7f8"
      },
      "execution_count": null,
      "outputs": [
        {
          "output_type": "stream",
          "name": "stdout",
          "text": [
            "[1, 4, 9, 16, 25, 36, 49, 64, 81, 100]\n"
          ]
        }
      ]
    },
    {
      "cell_type": "markdown",
      "source": [],
      "metadata": {
        "id": "TW9vgNvRzlMH"
      }
    }
  ]
}